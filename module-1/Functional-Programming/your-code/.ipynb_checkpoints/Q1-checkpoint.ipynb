{
 "cells": [
  {
   "cell_type": "markdown",
   "metadata": {},
   "source": [
    "In the cell below, create a Python function that wraps your previous solution for the Bag of Words lab.\n",
    "\n",
    "Requirements:\n",
    "\n",
    "1. Your function should accept the following parameters:\n",
    "    * `docs` [REQUIRED] - array of document paths.\n",
    "    * `stop_words` [OPTIONAL] - array of stop words. The default value is an empty array.\n",
    "\n",
    "1. Your function should return a Python object that contains the following:\n",
    "    * `bag_of_words` - array of strings of normalized unique words in the corpus.\n",
    "    * `term_freq` - array of the term-frequency vectors."
   ]
  },
  {
   "cell_type": "code",
   "execution_count": 7,
   "metadata": {},
   "outputs": [
    {
     "name": "stdout",
     "output_type": "stream",
     "text": [
      "{'bag_of_words': ['ironhack', 'is', 'cool', 'i', 'love', 'student', 'at'], 'term_freq': [[1, 1, 1, 0, 0, 0, 0], [1, 0, 0, 1, 1, 0, 0], [1, 0, 0, 1, 0, 1, 1]]}\n"
     ]
    }
   ],
   "source": [
    "# Import required libraries\n",
    "import re\n",
    "docslist = [\"Ironhack is cool!\", \"I love Ironhack.\", \"I am a student at Ironhack.\"]\n",
    "\n",
    "# print(docslist_str)\n",
    "# Define function\n",
    "def get_bow_from_docs(docs, stop_words=[]):\n",
    "    \n",
    "    \n",
    "    # In the function, first define the variables you will use such as `corpus`, `bag_of_words`, and `term_freq`.\n",
    "    bag_of_words = []\n",
    "    term_freq = []\n",
    "\n",
    "    \"\"\"\n",
    "    Loop `docs` and read the content of each doc into a string in `corpus`.\n",
    "    Remember to convert the doc content to lowercases and remove punctuation.\n",
    "    \"\"\"\n",
    "   \n",
    "    corpus = []\n",
    "    for sentence in docs:\n",
    "        corpus.append(re.split('[ .!,]+', sentence.lower()))\n",
    "#     print(\"Corpus: \",corpus)\n",
    "    \n",
    "    \"\"\"\n",
    "    Loop `corpus`. Append the terms in each doc into the `bag_of_words` array. The terms in `bag_of_words` \n",
    "    should be unique which means before adding each term you need to check if it's already added to the array.\n",
    "    In addition, check if each term is in the `stop_words` array. Only append the term to `bag_of_words`\n",
    "    if it is not a stop word.\n",
    "    \"\"\"\n",
    "    for sentence in corpus:\n",
    "        for word in sentence:\n",
    "            if word != '':\n",
    "                if (word not in bag_of_words) and (word not in stop_words):\n",
    "                    bag_of_words.append(word)\n",
    "    \n",
    "    \"\"\"\n",
    "    Loop `corpus` again. For each doc string, count the number of occurrences of each term in `bag_of_words`. \n",
    "    Create an array for each doc's term frequency and append it to `term_freq`.\n",
    "    \"\"\"\n",
    "    count = 0\n",
    "    for item in corpus:\n",
    "        arr = []\n",
    "        for element in bag_of_words:\n",
    "            if element in item:\n",
    "                count = 1\n",
    "            else:\n",
    "                count = 0\n",
    "            arr.append(count)\n",
    "        term_freq.append(arr)\n",
    "            \n",
    "    \n",
    "    # Now return your output as an object\n",
    "    return {\n",
    "        \"bag_of_words\": bag_of_words,\n",
    "        \"term_freq\": term_freq\n",
    "    }\n",
    "\n",
    "\n",
    "print(get_bow_from_docs(docslist, ['am', 'a']))"
   ]
  },
  {
   "cell_type": "markdown",
   "metadata": {},
   "source": [
    "Test your function without stop words. You should see the output like below:\n",
    "\n",
    "```{'bag_of_words': ['ironhack', 'is', 'cool', 'i', 'love', 'am', 'a', 'student', 'at'], 'term_freq': [[1, 1, 1, 0, 0, 0, 0, 0, 0], [1, 0, 0, 1, 1, 0, 0, 0, 0], [1, 0, 0, 1, 0, 1, 1, 1, 1]]}```"
   ]
  },
  {
   "cell_type": "code",
   "execution_count": 8,
   "metadata": {},
   "outputs": [
    {
     "name": "stdout",
     "output_type": "stream",
     "text": [
      "{'bag_of_words': ['ironhack', 'is', 'cool', 'i', 'love', 'am', 'a', 'student', 'at'], 'term_freq': [[1, 1, 1, 0, 0, 0, 0, 0, 0], [1, 0, 0, 1, 1, 0, 0, 0, 0], [1, 0, 0, 1, 0, 1, 1, 1, 1]]}\n"
     ]
    }
   ],
   "source": [
    "# Define doc paths array\n",
    "docs = []\n",
    "docs = docslist\n",
    "\n",
    "# Obtain BoW from your function\n",
    "bow = get_bow_from_docs(docs)\n",
    "\n",
    "# Print BoW\n",
    "print(bow)"
   ]
  },
  {
   "cell_type": "markdown",
   "metadata": {},
   "source": [
    "If your attempt above is successful, nice work done!\n",
    "\n",
    "Now test your function again with the stop words. In the previous lab we defined the stop words in a large array. In this lab, we'll import the stop words from Scikit-Learn."
   ]
  },
  {
   "cell_type": "code",
   "execution_count": 9,
   "metadata": {},
   "outputs": [
    {
     "name": "stdout",
     "output_type": "stream",
     "text": [
      "frozenset({'ten', 'anyone', 'while', 'against', 'under', 'is', 'whole', 'my', 'after', 'eight', 'then', 'there', 'nine', 'too', 'anywhere', 'nor', 'yet', 'alone', 'twenty', 'if', 'amongst', 'otherwise', 'give', 'several', 'bill', 'again', 'over', 'anything', 'well', 'how', 'whereas', 'four', 'his', 'that', 'elsewhere', 'never', 'off', 'until', 'get', 'no', 'hereby', 'do', 'very', 'system', 'cant', 'fire', 'beforehand', 'least', 'eleven', 'ever', 'hundred', 'between', 'somehow', 'this', 'would', 'across', 'thence', 'all', 'everywhere', 'into', 'both', 'many', 'neither', 'five', 'already', 'some', 'have', 'now', 'show', 'top', 'go', 'she', 'therein', 'call', 'below', 'mine', 'towards', 'three', 'an', 'anyhow', 'up', 'during', 'we', 'of', 'beside', 'here', 'sometime', 'than', 'except', 'part', 'mill', 'third', 'whereafter', 'can', 'also', 'un', 'each', 'to', 'see', 'whence', 'keep', 'something', 'became', 'others', 'seemed', 'cry', 'what', 'whither', 'these', 'made', 'someone', 'yours', 'our', 'few', 'amoungst', 'front', 'so', 'thru', 'whereby', 'amount', 'fifteen', 'forty', 'per', 'anyway', 'take', 'none', 'once', 'another', 'inc', 'cannot', 'since', 'nothing', 'whom', 'her', 'yourselves', 'itself', 'throughout', 'for', 'be', 'or', 'move', 'before', 'back', 'more', 'may', 'put', 'further', 'everything', 'fill', 'almost', 'mostly', 'next', 'i', 'must', 'becomes', 'out', 'moreover', 'sixty', 'please', 'ltd', 'might', 'but', 'down', 'had', 'together', 'afterwards', 'toward', 'and', 'hereupon', 'rather', 'detail', 'whoever', 'should', 'your', 'latterly', 'thick', 'whose', 'ourselves', 'around', 'side', 'six', 'find', 'their', 'still', 'were', 'hereafter', 'myself', 'has', 'along', 'twelve', 'will', 'with', 'besides', 'however', 'are', 'me', 'you', 'seems', 'yourself', 'de', 'first', 'the', 'they', 'noone', 'often', 'seeming', 'himself', 'within', 'thereafter', 'either', 'among', 'sometimes', 'not', 'latter', 'most', 'above', 'etc', 'whereupon', 'by', 'from', 'whatever', 'via', 'fifty', 'always', 'whenever', 'at', 'thin', 'enough', 'herself', 'as', 'every', 'ours', 'about', 'because', 'such', 'ie', 'sincere', 'herein', 'nevertheless', 'through', 'becoming', 'any', 'themselves', 'formerly', 'them', 'con', 'hasnt', 'due', 'onto', 'in', 'though', 'wherein', 'interest', 'which', 'when', 're', 'upon', 'why', 'where', 'perhaps', 'meanwhile', 'thus', 'else', 'those', 'two', 'been', 'former', 'it', 'even', 'empty', 'hers', 'describe', 'its', 'only', 'thereby', 'less', 'namely', 'on', 'us', 'beyond', 'somewhere', 'hence', 'therefore', 'become', 'co', 'one', 'done', 'behind', 'bottom', 'indeed', 'could', 'couldnt', 'without', 'found', 'he', 'am', 'although', 'own', 'was', 'nobody', 'him', 'full', 'eg', 'wherever', 'last', 'thereupon', 'whether', 'name', 'seem', 'being', 'same', 'other', 'much', 'a', 'nowhere', 'everyone', 'serious', 'who'})\n"
     ]
    }
   ],
   "source": [
    "from sklearn.feature_extraction import stop_words\n",
    "print(stop_words.ENGLISH_STOP_WORDS)"
   ]
  },
  {
   "cell_type": "markdown",
   "metadata": {},
   "source": [
    "You should have seen a large list of words that looks like:\n",
    "\n",
    "```frozenset({'across', 'mine', 'cannot', ...})```\n",
    "\n",
    "`frozenset` is a type of Python object that is immutable. In this lab you can use it just like an array without conversion."
   ]
  },
  {
   "cell_type": "markdown",
   "metadata": {},
   "source": [
    "Next, test your function with supplying `stop_words.ENGLISH_STOP_WORDS` as the second parameter."
   ]
  },
  {
   "cell_type": "code",
   "execution_count": 10,
   "metadata": {},
   "outputs": [
    {
     "name": "stdout",
     "output_type": "stream",
     "text": [
      "{'bag_of_words': ['ironhack', 'cool', 'love', 'student'], 'term_freq': [[1, 1, 0, 0], [1, 0, 1, 0], [1, 0, 0, 1]]}\n"
     ]
    }
   ],
   "source": [
    "bow = get_bow_from_docs(docslist, stop_words.ENGLISH_STOP_WORDS)\n",
    "\n",
    "print(bow)"
   ]
  },
  {
   "cell_type": "markdown",
   "metadata": {},
   "source": [
    "You should have seen:\n",
    "\n",
    "```{'bag_of_words': ['ironhack', 'cool', 'love', 'student'], 'term_freq': [[1, 1, 0, 0], [1, 0, 1, 0], [1, 0, 0, 1]]}```"
   ]
  },
  {
   "cell_type": "code",
   "execution_count": null,
   "metadata": {},
   "outputs": [],
   "source": []
  }
 ],
 "metadata": {
  "kernelspec": {
   "display_name": "Python 3",
   "language": "python",
   "name": "python3"
  },
  "language_info": {
   "codemirror_mode": {
    "name": "ipython",
    "version": 3
   },
   "file_extension": ".py",
   "mimetype": "text/x-python",
   "name": "python",
   "nbconvert_exporter": "python",
   "pygments_lexer": "ipython3",
   "version": "3.8.3"
  }
 },
 "nbformat": 4,
 "nbformat_minor": 2
}
